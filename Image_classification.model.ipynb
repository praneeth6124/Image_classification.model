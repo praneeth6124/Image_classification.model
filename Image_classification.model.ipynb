{
  "cells": [
    {
      "cell_type": "markdown",
      "metadata": {
        "id": "view-in-github",
        "colab_type": "text"
      },
      "source": [
        "<a href=\"https://colab.research.google.com/github/praneeth6124/Image_classification.model/blob/main/Image_classification.model.ipynb\" target=\"_parent\"><img src=\"https://colab.research.google.com/assets/colab-badge.svg\" alt=\"Open In Colab\"/></a>"
      ]
    },
    {
      "cell_type": "code",
      "execution_count": null,
      "id": "07e177e4-81c0-46db-9f55-0f58ac71beab",
      "metadata": {
        "colab": {
          "base_uri": "https://localhost:8080/"
        },
        "id": "07e177e4-81c0-46db-9f55-0f58ac71beab",
        "outputId": "7e6d3880-5444-4162-d79e-31b092db7141"
      },
      "outputs": [
        {
          "output_type": "stream",
          "name": "stdout",
          "text": [
            "Requirement already satisfied: matplotlib in /usr/local/lib/python3.11/dist-packages (3.10.0)\n",
            "Requirement already satisfied: contourpy>=1.0.1 in /usr/local/lib/python3.11/dist-packages (from matplotlib) (1.3.2)\n",
            "Requirement already satisfied: cycler>=0.10 in /usr/local/lib/python3.11/dist-packages (from matplotlib) (0.12.1)\n",
            "Requirement already satisfied: fonttools>=4.22.0 in /usr/local/lib/python3.11/dist-packages (from matplotlib) (4.57.0)\n",
            "Requirement already satisfied: kiwisolver>=1.3.1 in /usr/local/lib/python3.11/dist-packages (from matplotlib) (1.4.8)\n",
            "Requirement already satisfied: numpy>=1.23 in /usr/local/lib/python3.11/dist-packages (from matplotlib) (2.0.2)\n",
            "Requirement already satisfied: packaging>=20.0 in /usr/local/lib/python3.11/dist-packages (from matplotlib) (24.2)\n",
            "Requirement already satisfied: pillow>=8 in /usr/local/lib/python3.11/dist-packages (from matplotlib) (11.1.0)\n",
            "Requirement already satisfied: pyparsing>=2.3.1 in /usr/local/lib/python3.11/dist-packages (from matplotlib) (3.2.3)\n",
            "Requirement already satisfied: python-dateutil>=2.7 in /usr/local/lib/python3.11/dist-packages (from matplotlib) (2.8.2)\n",
            "Requirement already satisfied: six>=1.5 in /usr/local/lib/python3.11/dist-packages (from python-dateutil>=2.7->matplotlib) (1.17.0)\n"
          ]
        }
      ],
      "source": [
        "!pip install matplotlib"
      ]
    },
    {
      "cell_type": "code",
      "execution_count": null,
      "id": "2e9c8681-2823-4bf2-9c10-d9148b3bc895",
      "metadata": {
        "id": "2e9c8681-2823-4bf2-9c10-d9148b3bc895"
      },
      "outputs": [],
      "source": [
        "import numpy as np\n",
        "import tensorflow as tf\n",
        "from tensorflow.keras import datasets, layers, models\n",
        "import matplotlib.pyplot as plt\n",
        "from keras.layers import Dropout\n"
      ]
    },
    {
      "cell_type": "code",
      "execution_count": null,
      "id": "a562b58a-8d6b-4585-9a97-9b5218635731",
      "metadata": {
        "colab": {
          "base_uri": "https://localhost:8080/"
        },
        "id": "a562b58a-8d6b-4585-9a97-9b5218635731",
        "outputId": "9822877d-b9c9-4cb6-d3ae-b6d25aad925d"
      },
      "outputs": [
        {
          "output_type": "stream",
          "name": "stdout",
          "text": [
            "Downloading data from https://www.cs.toronto.edu/~kriz/cifar-10-python.tar.gz\n",
            "\u001b[1m170498071/170498071\u001b[0m \u001b[32m━━━━━━━━━━━━━━━━━━━━\u001b[0m\u001b[37m\u001b[0m \u001b[1m5s\u001b[0m 0us/step\n"
          ]
        },
        {
          "output_type": "execute_result",
          "data": {
            "text/plain": [
              "(50000, 32, 32, 3)"
            ]
          },
          "metadata": {},
          "execution_count": 4
        }
      ],
      "source": [
        "(X_train,y_train), (X_test,y_test)= datasets.cifar10.load_data()           #Importing the dataset\n",
        "X_train.shape"
      ]
    },
    {
      "cell_type": "code",
      "execution_count": null,
      "id": "1371df10-7f97-4d15-8781-beb90253c07e",
      "metadata": {
        "colab": {
          "base_uri": "https://localhost:8080/"
        },
        "id": "1371df10-7f97-4d15-8781-beb90253c07e",
        "outputId": "307c6256-cefc-47d1-b0f3-8e1e4e76c9c0"
      },
      "outputs": [
        {
          "output_type": "execute_result",
          "data": {
            "text/plain": [
              "(10000, 32, 32, 3)"
            ]
          },
          "metadata": {},
          "execution_count": 5
        }
      ],
      "source": [
        "X_test.shape"
      ]
    },
    {
      "cell_type": "code",
      "execution_count": null,
      "id": "7be51a6c-9888-42a2-af20-433ec422bf97",
      "metadata": {
        "colab": {
          "base_uri": "https://localhost:8080/"
        },
        "id": "7be51a6c-9888-42a2-af20-433ec422bf97",
        "outputId": "95496826-59ef-4d32-948b-829530a2ac17"
      },
      "outputs": [
        {
          "output_type": "execute_result",
          "data": {
            "text/plain": [
              "array([6, 9, 9, 4, 1], dtype=uint8)"
            ]
          },
          "metadata": {},
          "execution_count": 6
        }
      ],
      "source": [
        "y_train= y_train.reshape(-1,)\n",
        "y_train[:5]"
      ]
    },
    {
      "cell_type": "code",
      "execution_count": null,
      "id": "d45c1500-9069-4170-aba4-ff22d2179893",
      "metadata": {
        "id": "d45c1500-9069-4170-aba4-ff22d2179893"
      },
      "outputs": [],
      "source": [
        "classes= ['airplane','automobile','bird','cat','deer','dog','frog','horse','ship','truck']        # The no. of classes=no. of categories,so output layer should have 10 neurons"
      ]
    },
    {
      "cell_type": "code",
      "execution_count": null,
      "id": "e5006e28-9e56-4cb1-8751-9665fef3a40d",
      "metadata": {
        "colab": {
          "base_uri": "https://localhost:8080/",
          "height": 36
        },
        "id": "e5006e28-9e56-4cb1-8751-9665fef3a40d",
        "outputId": "1a797931-881b-4749-a7d5-e4e133feebdb"
      },
      "outputs": [
        {
          "output_type": "execute_result",
          "data": {
            "text/plain": [
              "'dog'"
            ],
            "application/vnd.google.colaboratory.intrinsic+json": {
              "type": "string"
            }
          },
          "metadata": {},
          "execution_count": 8
        }
      ],
      "source": [
        "classes[5]"
      ]
    },
    {
      "cell_type": "code",
      "execution_count": null,
      "id": "efa35981-c0ee-41e5-9719-1965a437edb9",
      "metadata": {
        "id": "efa35981-c0ee-41e5-9719-1965a437edb9"
      },
      "outputs": [],
      "source": [
        "def plot_sample(X,y,index):\n",
        "    plt.figure(figsize=(15,2))\n",
        "    plt.imshow(X[index])\n",
        "    plt.xlabel(classes[y[index]])"
      ]
    },
    {
      "cell_type": "code",
      "execution_count": null,
      "id": "35d32227-a4ef-4ea2-80e4-f858ab86663a",
      "metadata": {
        "colab": {
          "base_uri": "https://localhost:8080/",
          "height": 237
        },
        "id": "35d32227-a4ef-4ea2-80e4-f858ab86663a",
        "outputId": "a898584c-19f0-4edf-af94-75f3adad8957"
      },
      "outputs": [
        {
          "output_type": "display_data",
          "data": {
            "text/plain": [
              "<Figure size 1500x200 with 1 Axes>"
            ],
            "image/png": "[encoded data removed]"
          },
          "metadata": {}
        }
      ],
      "source": [
        "plot_sample(X_train,y_train,0)"
      ]
    },
    {
      "cell_type": "code",
      "execution_count": null,
      "id": "070eb77e-89bb-419b-ad3c-66fb919f2873",
      "metadata": {
        "colab": {
          "base_uri": "https://localhost:8080/",
          "height": 237
        },
        "id": "070eb77e-89bb-419b-ad3c-66fb919f2873",
        "outputId": "880f269c-ffa4-4ab9-a5f7-07d7a195038c"
      },
      "outputs": [
        {
          "output_type": "display_data",
          "data": {
            "text/plain": [
              "<Figure size 1500x200 with 1 Axes>"
            ],
            "image/png": "[encoded data removed]"
          },
          "metadata": {}
        }
      ],
      "source": [
        "plot_sample(X_train,y_train,3)"
      ]
    },
    {
      "cell_type": "code",
      "execution_count": null,
      "id": "3b7295a5-c4c7-42ff-b6ea-ef56b7cc632f",
      "metadata": {
        "id": "3b7295a5-c4c7-42ff-b6ea-ef56b7cc632f"
      },
      "outputs": [],
      "source": [
        "X_train=X_train/255\n",
        "X_test=X_test/255"
      ]
    },
    {
      "cell_type": "code",
      "source": [
        "ann=models.Sequential([\n",
        "    layers.Flatten(input_shape=(32,32,3)),\n",
        "    layers.Dense(3000,activation='relu'),\n",
        "    layers.Dense(1000,activation='relu'),\n",
        "    layers.Dense(10,activation='softmax')\n",
        "])\n",
        "ann.compile(optimizer='SGD',\n",
        "            loss='sparse_categorical_crossentropy',\n",
        "            metrics=['accuracy'])\n",
        "ann.fit(X_train,y_train,epochs=5)"
      ],
      "metadata": {
        "colab": {
          "base_uri": "https://localhost:8080/"
        },
        "id": "NlqSNrvLYHkw",
        "outputId": "6b60c559-9556-4850-d1e8-5c361ce21b5e"
      },
      "id": "NlqSNrvLYHkw",
      "execution_count": null,
      "outputs": [
        {
          "output_type": "stream",
          "name": "stderr",
          "text": [
            "/usr/local/lib/python3.11/dist-packages/keras/src/layers/reshaping/flatten.py:37: UserWarning: Do not pass an `input_shape`/`input_dim` argument to a layer. When using Sequential models, prefer using an `Input(shape)` object as the first layer in the model instead.\n",
            "  super().__init__(**kwargs)\n"
          ]
        },
        {
          "output_type": "stream",
          "name": "stdout",
          "text": [
            "Epoch 1/5\n",
            "\u001b[1m1563/1563\u001b[0m \u001b[32m━━━━━━━━━━━━━━━━━━━━\u001b[0m\u001b[37m\u001b[0m \u001b[1m7s\u001b[0m 4ms/step - accuracy: 0.3041 - loss: 1.9302\n",
            "Epoch 2/5\n",
            "\u001b[1m1563/1563\u001b[0m \u001b[32m━━━━━━━━━━━━━━━━━━━━\u001b[0m\u001b[37m\u001b[0m \u001b[1m6s\u001b[0m 4ms/step - accuracy: 0.4187 - loss: 1.6436\n",
            "Epoch 3/5\n",
            "\u001b[1m1563/1563\u001b[0m \u001b[32m━━━━━━━━━━━━━━━━━━━━\u001b[0m\u001b[37m\u001b[0m \u001b[1m5s\u001b[0m 3ms/step - accuracy: 0.4573 - loss: 1.5512\n",
            "Epoch 4/5\n",
            "\u001b[1m1563/1563\u001b[0m \u001b[32m━━━━━━━━━━━━━━━━━━━━\u001b[0m\u001b[37m\u001b[0m \u001b[1m10s\u001b[0m 3ms/step - accuracy: 0.4753 - loss: 1.4891\n",
            "Epoch 5/5\n",
            "\u001b[1m1563/1563\u001b[0m \u001b[32m━━━━━━━━━━━━━━━━━━━━\u001b[0m\u001b[37m\u001b[0m \u001b[1m10s\u001b[0m 3ms/step - accuracy: 0.4957 - loss: 1.4366\n"
          ]
        },
        {
          "output_type": "execute_result",
          "data": {
            "text/plain": [
              "<keras.src.callbacks.history.History at 0x7eb4facaa590>"
            ]
          },
          "metadata": {},
          "execution_count": 13
        }
      ]
    },
    {
      "cell_type": "code",
      "source": [
        "print(y_test)\n",
        "print(y_test.shape)"
      ],
      "metadata": {
        "colab": {
          "base_uri": "https://localhost:8080/"
        },
        "id": "Liz8tzdi5P_v",
        "outputId": "9523a5ad-aba2-4210-a1ed-db9b6b82ab1f"
      },
      "id": "Liz8tzdi5P_v",
      "execution_count": null,
      "outputs": [
        {
          "output_type": "stream",
          "name": "stdout",
          "text": [
            "[[3]\n",
            " [8]\n",
            " [8]\n",
            " ...\n",
            " [5]\n",
            " [1]\n",
            " [7]]\n",
            "(10000, 1)\n"
          ]
        }
      ]
    },
    {
      "cell_type": "code",
      "source": [
        "from sklearn.metrics import confusion_matrix,classification_report\n",
        "import numpy as np\n",
        "y_pred=ann.predict(X_test)\n",
        "y_pred_classes=[np.argmax(element) for element in y_pred]\n",
        "\n",
        "print(f'Classification Report:{classification_report(y_test,y_pred_classes)}')"
      ],
      "metadata": {
        "colab": {
          "base_uri": "https://localhost:8080/"
        },
        "id": "24CnPkPQhSxR",
        "outputId": "bf3b095f-0652-4ac3-e0b6-3001341317cd"
      },
      "id": "24CnPkPQhSxR",
      "execution_count": null,
      "outputs": [
        {
          "output_type": "stream",
          "name": "stdout",
          "text": [
            "\u001b[1m313/313\u001b[0m \u001b[32m━━━━━━━━━━━━━━━━━━━━\u001b[0m\u001b[37m\u001b[0m \u001b[1m1s\u001b[0m 2ms/step\n",
            "Classification Report:              precision    recall  f1-score   support\n",
            "\n",
            "           0       0.52      0.58      0.55      1000\n",
            "           1       0.69      0.52      0.60      1000\n",
            "           2       0.44      0.22      0.29      1000\n",
            "           3       0.37      0.28      0.32      1000\n",
            "           4       0.45      0.42      0.43      1000\n",
            "           5       0.37      0.43      0.40      1000\n",
            "           6       0.46      0.67      0.54      1000\n",
            "           7       0.55      0.53      0.54      1000\n",
            "           8       0.59      0.65      0.62      1000\n",
            "           9       0.51      0.63      0.57      1000\n",
            "\n",
            "    accuracy                           0.49     10000\n",
            "   macro avg       0.49      0.49      0.49     10000\n",
            "weighted avg       0.49      0.49      0.49     10000\n",
            "\n"
          ]
        }
      ]
    },
    {
      "cell_type": "code",
      "execution_count": null,
      "id": "e61a506a-64e0-446d-a867-9c331a8ce76e",
      "metadata": {
        "id": "e61a506a-64e0-446d-a867-9c331a8ce76e"
      },
      "outputs": [],
      "source": [
        "cnn = models.Sequential([\n",
        "    layers.Conv2D(filters=32, kernel_size=(3, 3), activation='relu', input_shape=(32, 32, 3)),\n",
        "    # max pooling keeps the strongest features which reduces the size. Makes network fast, generalizes better and reduces overfitting.\n",
        "    layers.MaxPooling2D((2, 2)),\n",
        "\n",
        "    layers.Conv2D(filters=64, kernel_size=(3, 3), activation='relu'),\n",
        "    layers.MaxPooling2D((2, 2)),\n",
        "\n",
        "    layers.Flatten(),\n",
        "    layers.Dense(128, activation='relu'),\n",
        "    Dropout(0.2),                                   # dropout 0.2 for eliminating few neurons for generalizing better(regularization approach)\n",
        "    layers.Dense(10, activation='softmax')\n",
        "])"
      ]
    },
    {
      "cell_type": "code",
      "source": [
        "cnn.compile(optimizer='Adam',\n",
        "              loss='sparse_categorical_crossentropy',\n",
        "              metrics=['accuracy'])"
      ],
      "metadata": {
        "id": "NC4srZulYKtp"
      },
      "id": "NC4srZulYKtp",
      "execution_count": null,
      "outputs": []
    },
    {
      "cell_type": "code",
      "source": [
        "# EARLY STOPPING APPROACH:\n",
        "from tensorflow.keras.callbacks import EarlyStopping"
      ],
      "metadata": {
        "id": "SWFpaqubBELZ"
      },
      "id": "SWFpaqubBELZ",
      "execution_count": null,
      "outputs": []
    },
    {
      "cell_type": "code",
      "source": [
        "early_stopping = EarlyStopping(monitor='val_loss', patience=3, restore_best_weights=True)\n"
      ],
      "metadata": {
        "id": "1a_G-6XCBIHX"
      },
      "id": "1a_G-6XCBIHX",
      "execution_count": null,
      "outputs": []
    },
    {
      "cell_type": "code",
      "source": [
        "cnn.fit(X_train,y_train,validation_data=(X_test, y_test),epochs=15,callbacks=[early_stopping])"
      ],
      "metadata": {
        "colab": {
          "base_uri": "https://localhost:8080/"
        },
        "id": "6iCqYMEjYmio",
        "outputId": "6c7fd6a6-26ac-4c1b-e1e2-0bc0677f18af"
      },
      "id": "6iCqYMEjYmio",
      "execution_count": null,
      "outputs": [
        {
          "output_type": "stream",
          "name": "stdout",
          "text": [
            "Epoch 1/15\n",
            "\u001b[1m1563/1563\u001b[0m \u001b[32m━━━━━━━━━━━━━━━━━━━━\u001b[0m\u001b[37m\u001b[0m \u001b[1m12s\u001b[0m 6ms/step - accuracy: 0.3751 - loss: 1.7076 - val_accuracy: 0.5728 - val_loss: 1.2055\n",
            "Epoch 2/15\n",
            "\u001b[1m1563/1563\u001b[0m \u001b[32m━━━━━━━━━━━━━━━━━━━━\u001b[0m\u001b[37m\u001b[0m \u001b[1m15s\u001b[0m 4ms/step - accuracy: 0.5828 - loss: 1.1727 - val_accuracy: 0.6460 - val_loss: 1.0161\n",
            "Epoch 3/15\n",
            "\u001b[1m1563/1563\u001b[0m \u001b[32m━━━━━━━━━━━━━━━━━━━━\u001b[0m\u001b[37m\u001b[0m \u001b[1m11s\u001b[0m 4ms/step - accuracy: 0.6483 - loss: 1.0058 - val_accuracy: 0.6809 - val_loss: 0.9195\n",
            "Epoch 4/15\n",
            "\u001b[1m1563/1563\u001b[0m \u001b[32m━━━━━━━━━━━━━━━━━━━━\u001b[0m\u001b[37m\u001b[0m \u001b[1m6s\u001b[0m 4ms/step - accuracy: 0.6860 - loss: 0.8899 - val_accuracy: 0.6927 - val_loss: 0.8895\n",
            "Epoch 5/15\n",
            "\u001b[1m1563/1563\u001b[0m \u001b[32m━━━━━━━━━━━━━━━━━━━━\u001b[0m\u001b[37m\u001b[0m \u001b[1m10s\u001b[0m 4ms/step - accuracy: 0.7115 - loss: 0.8161 - val_accuracy: 0.6878 - val_loss: 0.9208\n",
            "Epoch 6/15\n",
            "\u001b[1m1563/1563\u001b[0m \u001b[32m━━━━━━━━━━━━━━━━━━━━\u001b[0m\u001b[37m\u001b[0m \u001b[1m10s\u001b[0m 4ms/step - accuracy: 0.7362 - loss: 0.7433 - val_accuracy: 0.7108 - val_loss: 0.8412\n",
            "Epoch 7/15\n",
            "\u001b[1m1563/1563\u001b[0m \u001b[32m━━━━━━━━━━━━━━━━━━━━\u001b[0m\u001b[37m\u001b[0m \u001b[1m7s\u001b[0m 4ms/step - accuracy: 0.7536 - loss: 0.6954 - val_accuracy: 0.7054 - val_loss: 0.8907\n",
            "Epoch 8/15\n",
            "\u001b[1m1563/1563\u001b[0m \u001b[32m━━━━━━━━━━━━━━━━━━━━\u001b[0m\u001b[37m\u001b[0m \u001b[1m10s\u001b[0m 4ms/step - accuracy: 0.7725 - loss: 0.6332 - val_accuracy: 0.7131 - val_loss: 0.8462\n",
            "Epoch 9/15\n",
            "\u001b[1m1563/1563\u001b[0m \u001b[32m━━━━━━━━━━━━━━━━━━━━\u001b[0m\u001b[37m\u001b[0m \u001b[1m6s\u001b[0m 4ms/step - accuracy: 0.7908 - loss: 0.5840 - val_accuracy: 0.7007 - val_loss: 0.9144\n"
          ]
        },
        {
          "output_type": "execute_result",
          "data": {
            "text/plain": [
              "<keras.src.callbacks.history.History at 0x7eb4fad836d0>"
            ]
          },
          "metadata": {},
          "execution_count": 51
        }
      ]
    },
    {
      "cell_type": "markdown",
      "source": [
        "with CNN at the 5th epoch, the accuracy was at around 70% which is a significant improvement over ANN. CNN's are best for image classification and gives better accuracy. Also computation is much less compared to simple ANN as maxpooling reduces the image dimensions while still preserving the features."
      ],
      "metadata": {
        "id": "6LoiHurp102j"
      },
      "id": "6LoiHurp102j"
    },
    {
      "cell_type": "code",
      "source": [
        "cnn.evaluate(X_test,y_test)"
      ],
      "metadata": {
        "colab": {
          "base_uri": "https://localhost:8080/"
        },
        "id": "U5mGUBjoZxU6",
        "outputId": "06160166-50b5-4aee-950d-00ffa6c6d79a"
      },
      "id": "U5mGUBjoZxU6",
      "execution_count": null,
      "outputs": [
        {
          "output_type": "stream",
          "name": "stdout",
          "text": [
            "\u001b[1m313/313\u001b[0m \u001b[32m━━━━━━━━━━━━━━━━━━━━\u001b[0m\u001b[37m\u001b[0m \u001b[1m2s\u001b[0m 4ms/step - accuracy: 0.6962 - loss: 0.9296\n"
          ]
        },
        {
          "output_type": "execute_result",
          "data": {
            "text/plain": [
              "[0.9449055790901184, 0.6934000253677368]"
            ]
          },
          "metadata": {},
          "execution_count": 20
        }
      ]
    },
    {
      "cell_type": "code",
      "source": [
        "y_test=y_test.reshape(-1,)\n",
        "y_test[:5]"
      ],
      "metadata": {
        "colab": {
          "base_uri": "https://localhost:8080/"
        },
        "id": "bcwf1HyJaTFu",
        "outputId": "acebd757-ea6e-4ef8-9a28-3fa85278854e"
      },
      "id": "bcwf1HyJaTFu",
      "execution_count": null,
      "outputs": [
        {
          "output_type": "execute_result",
          "data": {
            "text/plain": [
              "array([3, 8, 8, 0, 6], dtype=uint8)"
            ]
          },
          "metadata": {},
          "execution_count": 19
        }
      ]
    },
    {
      "cell_type": "code",
      "source": [
        "plot_sample(X_test,y_test,1)"
      ],
      "metadata": {
        "colab": {
          "base_uri": "https://localhost:8080/",
          "height": 237
        },
        "id": "7eOegftCadOr",
        "outputId": "492f2ca9-9a34-43d0-e7ca-6cf47445d631"
      },
      "id": "7eOegftCadOr",
      "execution_count": null,
      "outputs": [
        {
          "output_type": "display_data",
          "data": {
            "text/plain": [
              "<Figure size 1500x200 with 1 Axes>"
            ],
            "image/png": "[encoded data removed]"
          },
          "metadata": {}
        }
      ]
    },
    {
      "cell_type": "code",
      "source": [
        "y_pred=cnn.predict(X_test)\n",
        "y_pred[:5]"
      ],
      "metadata": {
        "colab": {
          "base_uri": "https://localhost:8080/"
        },
        "id": "FX3MinvDaquT",
        "outputId": "f92b0f1f-0111-40de-e4b7-ed052f20fdb6"
      },
      "id": "FX3MinvDaquT",
      "execution_count": null,
      "outputs": [
        {
          "output_type": "stream",
          "name": "stdout",
          "text": [
            "\u001b[1m313/313\u001b[0m \u001b[32m━━━━━━━━━━━━━━━━━━━━\u001b[0m\u001b[37m\u001b[0m \u001b[1m1s\u001b[0m 2ms/step\n"
          ]
        },
        {
          "output_type": "execute_result",
          "data": {
            "text/plain": [
              "array([[6.76194264e-04, 1.04156235e-04, 3.96615651e-05, 8.61293018e-01,\n",
              "        2.68117747e-05, 3.85447629e-02, 2.52927863e-03, 1.80548943e-06,\n",
              "        9.66375396e-02, 1.46722115e-04],\n",
              "       [1.81702443e-03, 2.63390522e-02, 7.07627919e-07, 1.47490334e-06,\n",
              "        2.14677712e-07, 2.72601195e-08, 2.40636258e-08, 7.94985500e-09,\n",
              "        9.71761763e-01, 7.97213143e-05],\n",
              "       [5.73710315e-02, 7.62541965e-02, 3.09146428e-03, 1.68459211e-02,\n",
              "        2.83218618e-03, 1.74194365e-03, 3.26820096e-04, 1.14153549e-02,\n",
              "        7.98195004e-01, 3.19260918e-02],\n",
              "       [7.88021147e-01, 4.81993034e-02, 2.65391986e-03, 1.11525692e-03,\n",
              "        6.23391429e-03, 3.54843905e-05, 1.55417787e-04, 6.08417147e-04,\n",
              "        1.52776077e-01, 2.01080518e-04],\n",
              "       [1.33344846e-08, 5.37908704e-07, 9.86753590e-03, 1.33470325e-02,\n",
              "        8.84090126e-01, 1.02395914e-03, 9.16611031e-02, 1.48689423e-06,\n",
              "        8.00534781e-06, 1.20771702e-07]], dtype=float32)"
            ]
          },
          "metadata": {},
          "execution_count": 22
        }
      ]
    },
    {
      "cell_type": "code",
      "source": [
        "y_classes=[np.argmax(element) for element in y_pred]\n",
        "y_classes[:5]"
      ],
      "metadata": {
        "colab": {
          "base_uri": "https://localhost:8080/"
        },
        "id": "Zi7rSnnnbXdX",
        "outputId": "7882781d-1fb5-4678-beaf-3a93b4cdc7ba"
      },
      "id": "Zi7rSnnnbXdX",
      "execution_count": null,
      "outputs": [
        {
          "output_type": "execute_result",
          "data": {
            "text/plain": [
              "[np.int64(3), np.int64(8), np.int64(8), np.int64(0), np.int64(4)]"
            ]
          },
          "metadata": {},
          "execution_count": 23
        }
      ]
    },
    {
      "cell_type": "code",
      "source": [
        "y_test[:5]"
      ],
      "metadata": {
        "colab": {
          "base_uri": "https://localhost:8080/"
        },
        "id": "T8p0sCuzbnuq",
        "outputId": "db430635-e06d-45f9-d02a-812a9d637d9c"
      },
      "id": "T8p0sCuzbnuq",
      "execution_count": null,
      "outputs": [
        {
          "output_type": "execute_result",
          "data": {
            "text/plain": [
              "array([3, 8, 8, 0, 6], dtype=uint8)"
            ]
          },
          "metadata": {},
          "execution_count": 24
        }
      ]
    },
    {
      "cell_type": "code",
      "source": [
        "plot_sample(X_test,y_test,0)"
      ],
      "metadata": {
        "colab": {
          "base_uri": "https://localhost:8080/",
          "height": 237
        },
        "id": "3gltVOE2by44",
        "outputId": "59a0edac-6210-45e1-ac70-fc313b6db485"
      },
      "id": "3gltVOE2by44",
      "execution_count": null,
      "outputs": [
        {
          "output_type": "display_data",
          "data": {
            "text/plain": [
              "<Figure size 1500x200 with 1 Axes>"
            ],
            "image/png": "[encoded data removed]"
          },
          "metadata": {}
        }
      ]
    },
    {
      "cell_type": "code",
      "source": [
        "classes[y_classes[0]]"
      ],
      "metadata": {
        "colab": {
          "base_uri": "https://localhost:8080/",
          "height": 36
        },
        "id": "WFXu66Rvb2-X",
        "outputId": "2ec6dafe-bdee-4952-ef58-d687911a327d"
      },
      "id": "WFXu66Rvb2-X",
      "execution_count": null,
      "outputs": [
        {
          "output_type": "execute_result",
          "data": {
            "text/plain": [
              "'cat'"
            ],
            "application/vnd.google.colaboratory.intrinsic+json": {
              "type": "string"
            }
          },
          "metadata": {},
          "execution_count": 26
        }
      ]
    },
    {
      "cell_type": "code",
      "source": [
        "from tensorflow.keras import Sequential\n",
        "from tensorflow.keras.layers import RandomZoom"
      ],
      "metadata": {
        "id": "ZUU1ZqCpS9-i"
      },
      "id": "ZUU1ZqCpS9-i",
      "execution_count": null,
      "outputs": []
    },
    {
      "cell_type": "code",
      "source": [
        "# data augmentation\n",
        "data_augmentation=Sequential([\n",
        "    RandomZoom(0.3),\n",
        "])"
      ],
      "metadata": {
        "id": "znZWs4nsiUrK"
      },
      "id": "znZWs4nsiUrK",
      "execution_count": null,
      "outputs": []
    },
    {
      "cell_type": "code",
      "source": [
        "plt.axis('off')\n",
        "plt.imshow(X_train[0])"
      ],
      "metadata": {
        "colab": {
          "base_uri": "https://localhost:8080/",
          "height": 423
        },
        "id": "KnlfXyM2T1dR",
        "outputId": "bbe7f762-1098-4ec0-90ff-9b6663f12b67"
      },
      "id": "KnlfXyM2T1dR",
      "execution_count": null,
      "outputs": [
        {
          "output_type": "execute_result",
          "data": {
            "text/plain": [
              "<matplotlib.image.AxesImage at 0x7eb4fadd9e90>"
            ]
          },
          "metadata": {},
          "execution_count": 29
        },
        {
          "output_type": "display_data",
          "data": {
            "text/plain": [
              "<Figure size 640x480 with 1 Axes>"
            ],
            "image/png": "[encoded data removed]"
          },
          "metadata": {}
        }
      ]
    },
    {
      "cell_type": "code",
      "source": [
        "data_augmentation(X_train)[0]"
      ],
      "metadata": {
        "colab": {
          "base_uri": "https://localhost:8080/"
        },
        "id": "KQcoRcvAVWcH",
        "outputId": "a691f1f6-2d33-419c-b1db-3014f2d4afed"
      },
      "id": "KQcoRcvAVWcH",
      "execution_count": null,
      "outputs": [
        {
          "output_type": "execute_result",
          "data": {
            "text/plain": [
              "<tf.Tensor: shape=(32, 32, 3), dtype=float32, numpy=\n",
              "array([[[0.23137255, 0.24313726, 0.24705882],\n",
              "        [0.20667225, 0.21843696, 0.21927097],\n",
              "        [0.18058175, 0.18380767, 0.17305508],\n",
              "        ...,\n",
              "        [0.60632503, 0.5021504 , 0.41024655],\n",
              "        [0.5865673 , 0.48781827, 0.4023778 ],\n",
              "        [0.5803922 , 0.4862745 , 0.40392157]],\n",
              "\n",
              "       [[0.16499047, 0.17829895, 0.18067674],\n",
              "        [0.14029017, 0.15116777, 0.15167345],\n",
              "        [0.12159472, 0.11682795, 0.10493002],\n",
              "        ...,\n",
              "        [0.5540361 , 0.43596753, 0.32929826],\n",
              "        [0.54217523, 0.4276602 , 0.32771808],\n",
              "        [0.5402542 , 0.42915505, 0.33290818]],\n",
              "\n",
              "       [[0.0781149 , 0.0852624 , 0.08013913],\n",
              "        [0.05812053, 0.05640384, 0.04859147],\n",
              "        [0.06921902, 0.0345406 , 0.00594951],\n",
              "        ...,\n",
              "        [0.4707433 , 0.3320183 , 0.20089877],\n",
              "        [0.46101114, 0.321177  , 0.19719085],\n",
              "        [0.45623055, 0.3172679 , 0.19791308]],\n",
              "\n",
              "       ...,\n",
              "\n",
              "       [[0.7536996 , 0.59803855, 0.3764706 ],\n",
              "        [0.7428932 , 0.5726659 , 0.28772885],\n",
              "        [0.7365504 , 0.55978054, 0.13352552],\n",
              "        ...,\n",
              "        [0.47159177, 0.348963  , 0.19192041],\n",
              "        [0.2884752 , 0.18122233, 0.1006851 ],\n",
              "        [0.27425748, 0.17539574, 0.10942473]],\n",
              "\n",
              "       [[0.698749  , 0.55698705, 0.42402655],\n",
              "        [0.6860705 , 0.5332228 , 0.3706165 ],\n",
              "        [0.6866723 , 0.5241988 , 0.2730357 ],\n",
              "        ...,\n",
              "        [0.63458765, 0.50245154, 0.35054678],\n",
              "        [0.4553196 , 0.33038402, 0.23492225],\n",
              "        [0.42060214, 0.30057725, 0.22368968]],\n",
              "\n",
              "       [[0.69411767, 0.5647059 , 0.45490196],\n",
              "        [0.68022376, 0.5415494 , 0.42093903],\n",
              "        [0.67760885, 0.5280832 , 0.35667318],\n",
              "        ...,\n",
              "        [0.7031611 , 0.5754571 , 0.4250462 ],\n",
              "        [0.52557856, 0.40092236, 0.3008782 ],\n",
              "        [0.48235294, 0.36078432, 0.28235295]]], dtype=float32)>"
            ]
          },
          "metadata": {},
          "execution_count": 30
        }
      ]
    },
    {
      "cell_type": "code",
      "source": [],
      "metadata": {
        "id": "E_wp3Iom_QJE"
      },
      "id": "E_wp3Iom_QJE",
      "execution_count": null,
      "outputs": []
    }
  ],
  "metadata": {
    "kernelspec": {
      "display_name": "Python 3",
      "name": "python3"
    },
    "language_info": {
      "codemirror_mode": {
        "name": "ipython",
        "version": 3
      },
      "file_extension": ".py",
      "mimetype": "text/x-python",
      "name": "python",
      "nbconvert_exporter": "python",
      "pygments_lexer": "ipython3",
      "version": "3.10.8"
    },
    "colab": {
      "provenance": [],
      "gpuType": "T4",
      "include_colab_link": true
    },
    "accelerator": "GPU"
  },
  "nbformat": 4,
  "nbformat_minor": 5
}